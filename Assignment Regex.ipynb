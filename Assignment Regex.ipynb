{
 "cells": [
  {
   "cell_type": "code",
   "execution_count": 1,
   "id": "706bdccd",
   "metadata": {},
   "outputs": [
    {
     "name": "stdout",
     "output_type": "stream",
     "text": [
      "python:Exercises::PHP:exercises:\n"
     ]
    }
   ],
   "source": [
    "# Question1- Write a python program to replace all occurrences of a space, comma, or dot with a colon. \n",
    "\n",
    "import regex as re \n",
    "\n",
    "sample = 'python Exercises, PHP exercises.'\n",
    "print(re.sub(\"[ ,.]\", \":\", sample))"
   ]
  },
  {
   "cell_type": "code",
   "execution_count": 2,
   "id": "68035edc",
   "metadata": {},
   "outputs": [
    {
     "name": "stdout",
     "output_type": "stream",
     "text": [
      "['ed', 'er', 'azy', 'ence', 'and', 'as', 'ar', 'ections']\n"
     ]
    }
   ],
   "source": [
    "# Question2- Write a python program to find all words starting with 'a' or 'e' in given string. \n",
    "\n",
    "pattern= \"The quick brown fox jumped over the lazy dog's a fence, and Dhoni has a more bike car collections\"\n",
    "\n",
    "list = re.findall(\"[ae]\\w+\", pattern)\n",
    "\n",
    "print(list)"
   ]
  },
  {
   "cell_type": "code",
   "execution_count": 27,
   "id": "8f937ce8",
   "metadata": {},
   "outputs": [
    {
     "name": "stdout",
     "output_type": "stream",
     "text": [
      "<class 're.Pattern'>\n",
      "['Abdu', 'Kala', 'Indi', 'aero', 'spac', 'scie', 'ntis', 'also', 'know', 'Miss', 'Indi']\n"
     ]
    }
   ],
   "source": [
    "# Question3- Create a function in python to find all words that are at least 4 character long in a string the use of the re.compile() method is mandatory.\n",
    "\n",
    "import re\n",
    "\n",
    "str1 = \"APJ Abdul Kalam was an Indian aerospace scientist also know as the Missile Man of India\"\n",
    "\n",
    "pattern = r\"\\w{4}\"\n",
    "regex_pattern = re.compile(pattern)\n",
    "print(type(regex_pattern))\n",
    "\n",
    "result = regex_pattern.findall(str1)\n",
    "print(result)\n",
    "    "
   ]
  },
  {
   "cell_type": "code",
   "execution_count": 28,
   "id": "89f7c9e9",
   "metadata": {},
   "outputs": [
    {
     "name": "stdout",
     "output_type": "stream",
     "text": [
      "<class 're.Pattern'>\n",
      "['APJ', 'Abdul', 'Kalam', 'was', 'also', 'know', 'the', 'Man', 'India']\n"
     ]
    }
   ],
   "source": [
    "# Qestion4- Create a function in python to find all three, four, and five character words in a string the use of the re.compile() method is mandatory.\n",
    "import re\n",
    "\n",
    "str1 = \"APJ Abdul Kalam was an Indian aerospace scientist also know as the Missile Man of India\"\n",
    "\n",
    "pattern = r\"\\b\\w{3,5}\\b\"\n",
    "regex_pattern = re.compile(pattern)\n",
    "print(type(regex_pattern))\n",
    "\n",
    "result = regex_pattern.findall(str1)\n",
    "print(result)"
   ]
  },
  {
   "cell_type": "code",
   "execution_count": 1,
   "id": "1a3facc2",
   "metadata": {},
   "outputs": [
    {
     "name": "stdout",
     "output_type": "stream",
     "text": [
      "example (.com)\n",
      "hr@fliprobo (.com)\n",
      "github(.com)\n",
      "Hello (Data Science World)\n",
      "Data (Scientist)\n"
     ]
    }
   ],
   "source": [
    "#Question5- Create a function in python to remove the parenthesis in a list of string. the use of re.compile() method is mandatory. \n",
    "\n",
    "import re\n",
    "\n",
    "items = [\"example (.com)\", \"hr@fliprobo (.com)\", \"github(.com)\", \"Hello (Data Science World)\", \"Data (Scientist)\"]\n",
    "for item in items:\n",
    "    print(re.sub(r\" ?\\[^]+\\)\", \"\", item))"
   ]
  },
  {
   "cell_type": "code",
   "execution_count": null,
   "id": "1b48504e",
   "metadata": {},
   "outputs": [],
   "source": []
  },
  {
   "cell_type": "code",
   "execution_count": 3,
   "id": "08803282",
   "metadata": {},
   "outputs": [
    {
     "name": "stdout",
     "output_type": "stream",
     "text": [
      "['Importance', 'Of', 'Regular', 'Expression', 'In', 'Python']\n"
     ]
    }
   ],
   "source": [
    "#Question7- Write a regular expression in python to split a string in to uppercase letters. \n",
    "import re\n",
    "text = \"ImportanceOfRegularExpressionInPython\"\n",
    "x = re.split('(?<=.)(?=[A-Z])', text)\n",
    "\n",
    "print(x)"
   ]
  },
  {
   "cell_type": "code",
   "execution_count": 18,
   "id": "f13ae7f9",
   "metadata": {},
   "outputs": [
    {
     "name": "stdout",
     "output_type": "stream",
     "text": [
      "RegularExpression 1lsAn 2ImportantTopic 3InPython\n"
     ]
    }
   ],
   "source": [
    "#Question8- Create a function in python to insert spaces between words starting with numbers. \n",
    "\n",
    "import re\n",
    "\n",
    "def insert_spaces(text):\n",
    "    result = re.sub(r'(?<=[a-zA-Z])(?=\\d)', ' ', text)\n",
    "    return result\n",
    "\n",
    "sample_text = \"RegularExpression1lsAn2ImportantTopic3InPython\"\n",
    "output = insert_spaces(sample_text)\n",
    "print(output)"
   ]
  },
  {
   "cell_type": "code",
   "execution_count": 19,
   "id": "95499b08",
   "metadata": {},
   "outputs": [
    {
     "name": "stdout",
     "output_type": "stream",
     "text": [
      "Regular Expression 1 ls An 2 Important Topic 3 In Python\n"
     ]
    }
   ],
   "source": [
    "#Question9- Create a function in python to insert spaces between words starting with capital letters or with numbers. \n",
    "\n",
    "import re\n",
    "\n",
    "def insert_spaces(text):\n",
    "    modified_text = re.sub(r'(?<=[a-z])(?=[A-Z0-9])|(?<=[0-9])(?=[A-Za-z])', ' ', text)\n",
    "    return modified_text\n",
    "\n",
    "sample_text = \"RegularExpression1lsAn2ImportantTopic3InPython\"\n",
    "output = insert_spaces(sample_text)\n",
    "print(output)"
   ]
  },
  {
   "cell_type": "code",
   "execution_count": 5,
   "id": "d45fa298",
   "metadata": {},
   "outputs": [
    {
     "name": "stdout",
     "output_type": "stream",
     "text": [
      "['xyz@domain.com', 'xyz.abc@sdomain.com,', 'hr@fliprobo.com']\n"
     ]
    }
   ],
   "source": [
    "#Question10- Write a python program to extract email addresses from the text stored in the text file using regular expression. \n",
    "\n",
    "s = \"Hello my name is Data Science and my email address is xyz@domain.com and alternate email address is xyz.abc@sdomain.com, please contact us at hr@fliprobo.com for further information.\"\n",
    "  \n",
    "list = re.findall('\\S+@\\S+', s)     \n",
    "  \n",
    "print(list)"
   ]
  },
  {
   "cell_type": "code",
   "execution_count": 6,
   "id": "8baf5eec",
   "metadata": {},
   "outputs": [
    {
     "name": "stdout",
     "output_type": "stream",
     "text": [
      "Not matched!\n",
      "matched!\n"
     ]
    }
   ],
   "source": [
    "#Question11- Write a python program to match a string that contains only upper and lowercase letters, numbers and underscores. \n",
    "\n",
    "import re\n",
    "def text_match(text):\n",
    "        patterns = '^[a-zA-Z0-9_]*$'\n",
    "        if re.search(patterns,  text):\n",
    "                return 'matched!'\n",
    "        else:\n",
    "                return('Not matched!')\n",
    "\n",
    "print(text_match(\"The quick brown fox jumps over the lazy dog.\"))\n",
    "print(text_match(\"Python_Exercises_1\"))"
   ]
  },
  {
   "cell_type": "code",
   "execution_count": 7,
   "id": "b1f38f8f",
   "metadata": {},
   "outputs": [
    {
     "name": "stdout",
     "output_type": "stream",
     "text": [
      "True\n",
      "False\n"
     ]
    }
   ],
   "source": [
    "# Question12- write a python program where a string will start with a specific number.\n",
    "def match_num(string):\n",
    "    text = re.compile(r\"^5\")\n",
    "    if text.match(string):\n",
    "        return True\n",
    "    else:\n",
    "        return False\n",
    "print(match_num('5-2345861'))\n",
    "print(match_num('6-2345861'))"
   ]
  },
  {
   "cell_type": "code",
   "execution_count": 8,
   "id": "f140048a",
   "metadata": {},
   "outputs": [
    {
     "name": "stdout",
     "output_type": "stream",
     "text": [
      "216.8.94.196\n"
     ]
    }
   ],
   "source": [
    "# Question13- write a python program to remove leading zeros from and ip address.\n",
    "\n",
    "import re\n",
    "ip = \"216.08.094.196\"\n",
    "string = re.sub('\\.[0]*', '.', ip)\n",
    "print(string)"
   ]
  },
  {
   "cell_type": "code",
   "execution_count": 9,
   "id": "31d1f7c0",
   "metadata": {},
   "outputs": [
    {
     "name": "stdout",
     "output_type": "stream",
     "text": [
      "August 15th 1947\n"
     ]
    }
   ],
   "source": [
    "#Question14- Write a regular expression in python to match a date string in the form of month name followed by day number and year stored in a text file. \n",
    "\n",
    "import re\n",
    "\n",
    "sample_text = \"On August 15th 1947 that India was declared independent from British colonialism, and the reins of control were handed over to the leaders of the Country.\"\n",
    "\n",
    "pattern = r'\\b(?:January|February|March|April|May|June|July|August|September|October|November|December)\\s\\d{1,2}(?:st|nd|rd|th)\\s\\d{4}\\b'\n",
    "\n",
    "match = re.search(pattern, sample_text)\n",
    "if match:\n",
    "    matched_date = match.group(0)\n",
    "    print(matched_date)\n"
   ]
  },
  {
   "cell_type": "code",
   "execution_count": 10,
   "id": "47827954",
   "metadata": {},
   "outputs": [
    {
     "name": "stdout",
     "output_type": "stream",
     "text": [
      "Found words: ['fox', 'dog']\n"
     ]
    }
   ],
   "source": [
    "# Question15- Write a python program to search some literals string in a sting. \n",
    "\n",
    "def search_words(text, words):\n",
    "    found_words = []\n",
    "    for word in words:\n",
    "        if word in text:\n",
    "            found_words.append(word)\n",
    "    return found_words\n",
    "\n",
    "sample_text = 'The quick brown fox jumps over the lazy dog.'\n",
    "searched_words = ['fox', 'dog', 'horse']\n",
    "\n",
    "found_words = search_words(sample_text, searched_words)\n",
    "print(\"Found words:\", found_words)"
   ]
  },
  {
   "cell_type": "code",
   "execution_count": 11,
   "id": "f82e900e",
   "metadata": {},
   "outputs": [
    {
     "name": "stdout",
     "output_type": "stream",
     "text": [
      "'fox' found at positions: [16]\n"
     ]
    }
   ],
   "source": [
    "# Question16- Write a python program to search a literals string in a string and also find the location within the original string where the pattern occurs. \n",
    "\n",
    "def search_string(text, pattern):\n",
    "    locations = []\n",
    "    start = 0\n",
    "    \n",
    "    while start < len(text):\n",
    "        pos = text.find(pattern, start)\n",
    "        if pos == -1:\n",
    "            break\n",
    "        locations.append(pos)\n",
    "        start = pos + 1\n",
    "    \n",
    "    return locations\n",
    "\n",
    "sample_text = 'The quick brown fox jumps over the lazy dog.'\n",
    "searched_word = 'fox'\n",
    "\n",
    "locations = search_string(sample_text, searched_word)\n",
    "\n",
    "if locations:\n",
    "    print(f\"'{searched_word}' found at positions:\", locations)\n",
    "else:\n",
    "    print(f\"'{searched_word}' not found in the text.\")"
   ]
  },
  {
   "cell_type": "code",
   "execution_count": 12,
   "id": "a6620780",
   "metadata": {},
   "outputs": [
    {
     "name": "stdout",
     "output_type": "stream",
     "text": [
      "Found at position: 7\n",
      "Found at position: 22\n",
      "Found at position: 36\n"
     ]
    }
   ],
   "source": [
    "#Question17- Write a python program to find the substrings within a string. \n",
    "\n",
    "def find_substrings(text, pattern):\n",
    "    start = 0\n",
    "    while start < len(text):\n",
    "        pos = text.find(pattern, start)\n",
    "        if pos == -1:\n",
    "            break\n",
    "        print(\"Found at position:\", pos)\n",
    "        start = pos + len(pattern)\n",
    "\n",
    "sample_text = 'Python exercises, PHP exercises, C# exercises'\n",
    "pattern = 'exercises'\n",
    "find_substrings(sample_text, pattern)"
   ]
  },
  {
   "cell_type": "code",
   "execution_count": 13,
   "id": "5462d1bd",
   "metadata": {},
   "outputs": [
    {
     "name": "stdout",
     "output_type": "stream",
     "text": [
      "Found \"exercises\" at 7:16\n",
      "Found \"exercises\" at 22:31\n",
      "Found \"exercises\" at 36:45\n"
     ]
    }
   ],
   "source": [
    "# Question18- Write a python program to find the occurrence and position of the substring within a string. \n",
    "\n",
    "import re\n",
    "text = 'Python exercises, PHP exercises, C# exercises'\n",
    "pattern = 'exercises'\n",
    "for match in re.finditer(pattern, text):\n",
    "    s = match.start()\n",
    "    e = match.end()\n",
    "    print('Found \"%s\" at %d:%d' % (text[s:e], s, e))"
   ]
  },
  {
   "cell_type": "code",
   "execution_count": 14,
   "id": "f0c7fb34",
   "metadata": {},
   "outputs": [
    {
     "name": "stdout",
     "output_type": "stream",
     "text": [
      "Original date in YYY-MM-DD Format:  2026-01-02\n",
      "New date in DD-MM-YYYY Format:  02-01-2026\n"
     ]
    }
   ],
   "source": [
    "#Question19- Write a python program to convert a date of yyyy-mm-dd format to dd-mm-yyyy format. \n",
    "\n",
    "import re\n",
    "def change_date_format(dt):\n",
    "        return re.sub(r'(\\d{4})-(\\d{1,2})-(\\d{1,2})', '\\\\3-\\\\2-\\\\1', dt)\n",
    "dt1 = \"2026-01-02\"\n",
    "print(\"Original date in YYY-MM-DD Format: \",dt1)\n",
    "print(\"New date in DD-MM-YYYY Format: \",change_date_format(dt1))\n"
   ]
  },
  {
   "cell_type": "code",
   "execution_count": 15,
   "id": "3854efac",
   "metadata": {},
   "outputs": [
    {
     "name": "stdout",
     "output_type": "stream",
     "text": [
      "['01.12', '145.8', '3.01', '27.25', '0.25']\n"
     ]
    }
   ],
   "source": [
    "#Question20- Create a function in python to find all decimal numbers with a precision of 1 or 2 in a sting. The use of re.compile method is mandatory. \n",
    "\n",
    "import re\n",
    "\n",
    "def find_decimal_numbers(text):\n",
    "    pattern = re.compile(r'\\b\\d+\\.\\d{1,2}\\b')\n",
    "    decimal_numbers = pattern.findall(text)\n",
    "    return decimal_numbers\n",
    "\n",
    "sample_text = \"01.12 0132.123 2.31875 145.8 3.01 27.25 0.25\"\n",
    "result = find_decimal_numbers(sample_text)\n",
    "print(result)  # Output: ['01.12', '145.8', '3.01', '27.25', '0.25']"
   ]
  },
  {
   "cell_type": "code",
   "execution_count": 16,
   "id": "583b6d14",
   "metadata": {},
   "outputs": [
    {
     "name": "stdout",
     "output_type": "stream",
     "text": [
      "\n",
      "10\n",
      "20\n",
      "30\n"
     ]
    }
   ],
   "source": [
    "#Question21-Write a Python program to separate and print the numbers and their position of given string. \n",
    "import re\n",
    "text = \"Ten 10, Twenty 20, Thirty 30\"\n",
    "result = re.split(\"\\D+\", text)\n",
    "for element in result:\n",
    "    print(element)"
   ]
  },
  {
   "cell_type": "code",
   "execution_count": 17,
   "id": "9097204b",
   "metadata": {},
   "outputs": [
    {
     "name": "stdout",
     "output_type": "stream",
     "text": [
      "Expected Output: 950\n"
     ]
    }
   ],
   "source": [
    "#Question22- Write a regular expression in python program to extract maximu/largest numeric value from string. \n",
    "\n",
    "import re\n",
    "\n",
    "sample_text = 'My marks in each semester are: 947, 896, 926, 524, 734, 950, 642'\n",
    "numbers = re.findall(r'\\d+', sample_text)\n",
    "max_number = max(map(int, numbers))\n",
    "\n",
    "print(\"Expected Output:\", max_number)"
   ]
  },
  {
   "cell_type": "code",
   "execution_count": 20,
   "id": "34d977c2",
   "metadata": {},
   "outputs": [
    {
     "name": "stdout",
     "output_type": "stream",
     "text": [
      "Regular Expression Is An Important Topic In Python\n"
     ]
    }
   ],
   "source": [
    "#Question23- Create a function in python to insert space between words starting with capital letters. \n",
    "\n",
    "import re\n",
    "\n",
    "def insert_spaces(text):\n",
    "    spaced_text = re.sub(r'(?<=.)([A-Z])', r' \\1', text)\n",
    "    return spaced_text\n",
    "\n",
    "sample_text = \"RegularExpressionIsAnImportantTopicInPython\"\n",
    "output = insert_spaces(sample_text)\n",
    "print(output)"
   ]
  },
  {
   "cell_type": "code",
   "execution_count": 21,
   "id": "4e16f2ea",
   "metadata": {},
   "outputs": [
    {
     "name": "stdout",
     "output_type": "stream",
     "text": [
      "['Eating', 'Bananas', 'Wonder', 'Your', 'Example']\n"
     ]
    }
   ],
   "source": [
    "#Question24- python regex to find sequence of one upper case letter followed by lower case letters. \n",
    "\n",
    "import re\n",
    "\n",
    "text = \"Eating two Bananas a day can do Wonder for Your healthfor Example\"\n",
    "pattern = r'[A-Z][a-z]+'\n",
    "\n",
    "matches = re.findall(pattern, text)\n",
    "print(matches)"
   ]
  },
  {
   "cell_type": "code",
   "execution_count": 22,
   "id": "fd0628ff",
   "metadata": {},
   "outputs": [
    {
     "name": "stdout",
     "output_type": "stream",
     "text": [
      "Hello hello world\n"
     ]
    }
   ],
   "source": [
    "#Question25- Write a Python program to remove continuous duplicate words from Sentence using Regular Expression. \n",
    "\n",
    "import regex as re\n",
    "\n",
    "string_1 = \"Hello hello world world\"\n",
    "\n",
    "regex = r'\\b(\\w+)(?:\\W+\\1\\b)+'\n",
    "\n",
    "x=re.sub(regex, r'\\1', string_1)\n",
    "\n",
    "print(x)"
   ]
  },
  {
   "cell_type": "code",
   "execution_count": 23,
   "id": "3e1ae7be",
   "metadata": {},
   "outputs": [
    {
     "name": "stdout",
     "output_type": "stream",
     "text": [
      "\"Hello123\" is valid.\n",
      "\"Testing!\" is not valid.\n",
      "\"123456\" is valid.\n",
      "\"NoMatch_\" is not valid.\n",
      "\"Alphanumeric9\" is valid.\n"
     ]
    }
   ],
   "source": [
    "#Question26- Write a python program using RegEx to accept string ending with alphanumeric character. \n",
    "\n",
    "import re\n",
    "\n",
    "def is_valid_string(input_str):\n",
    "    pattern = r'.*[a-zA-Z0-9]$'\n",
    "    return re.match(pattern, input_str) is not None\n",
    "\n",
    "test_strings = [\"Hello123\", \"Testing!\", \"123456\", \"NoMatch_\", \"Alphanumeric9\"]\n",
    "\n",
    "for string in test_strings:\n",
    "    if is_valid_string(string):\n",
    "        print(f'\"{string}\" is valid.')\n",
    "    else:\n",
    "        print(f'\"{string}\" is not valid.')"
   ]
  },
  {
   "cell_type": "code",
   "execution_count": 27,
   "id": "c56cc9e3",
   "metadata": {},
   "outputs": [
    {
     "name": "stdout",
     "output_type": "stream",
     "text": [
      "['#Doltiwal', '#xyzabc', '#Demonetization']\n"
     ]
    }
   ],
   "source": [
    "#Question27- Write a python program using RegEx to extract the hashtags. \n",
    "\n",
    "import re\n",
    "\n",
    "sample_text = \"'''RT @kapil_kausik: #Doltiwal I mean #xyzabc is \\\"hurt\\\" by #Demonetization as the same has rendered USELESS <ed><U+00A0><U+00BD><ed><U+00B1><U+0089> \\\"acquired funds\\\" No wo'''\"\n",
    "\n",
    "hashtags = re.findall(r'#\\w+', sample_text)\n",
    "print(hashtags)"
   ]
  },
  {
   "cell_type": "code",
   "execution_count": 28,
   "id": "ffe47c36",
   "metadata": {},
   "outputs": [
    {
     "name": "stdout",
     "output_type": "stream",
     "text": [
      "@Jags123456 Bharat band on 28??<U+00BD><U+0082>Those who are protesting #demonetization are all different party leaders\n"
     ]
    }
   ],
   "source": [
    "#Question28- Write a python using RegEx to remove <U+..> like symbols. \n",
    "\n",
    "import re\n",
    "\n",
    "sample_text = \"@Jags123456 Bharat band on 28??<ed><U+00A0><U+00BD><ed><U+00B8><U+0082>Those who are protesting #demonetization are all different party leaders\"\n",
    "\n",
    "cleaned_text = re.sub(r'<ed><U\\+\\w+>', '', sample_text)\n",
    "print(cleaned_text)"
   ]
  },
  {
   "cell_type": "code",
   "execution_count": 31,
   "id": "0a344411",
   "metadata": {},
   "outputs": [
    {
     "ename": "FileNotFoundError",
     "evalue": "[Errno 2] No such file or directory: 'sample_text.txt'",
     "output_type": "error",
     "traceback": [
      "\u001b[1;31m---------------------------------------------------------------------------\u001b[0m",
      "\u001b[1;31mFileNotFoundError\u001b[0m                         Traceback (most recent call last)",
      "\u001b[1;32m~\\AppData\\Local\\Temp\\ipykernel_19908\\2787900702.py\u001b[0m in \u001b[0;36m<module>\u001b[1;34m\u001b[0m\n\u001b[0;32m      4\u001b[0m \u001b[1;33m\u001b[0m\u001b[0m\n\u001b[0;32m      5\u001b[0m \u001b[1;33m\u001b[0m\u001b[0m\n\u001b[1;32m----> 6\u001b[1;33m \u001b[1;32mwith\u001b[0m \u001b[0mopen\u001b[0m\u001b[1;33m(\u001b[0m\u001b[1;34m'sample_text.txt'\u001b[0m\u001b[1;33m,\u001b[0m \u001b[1;34m'r'\u001b[0m\u001b[1;33m)\u001b[0m \u001b[1;32mas\u001b[0m \u001b[0mfile\u001b[0m\u001b[1;33m:\u001b[0m\u001b[1;33m\u001b[0m\u001b[1;33m\u001b[0m\u001b[0m\n\u001b[0m\u001b[0;32m      7\u001b[0m     \u001b[0msample_text\u001b[0m \u001b[1;33m=\u001b[0m \u001b[0mfile\u001b[0m\u001b[1;33m.\u001b[0m\u001b[0mread\u001b[0m\u001b[1;33m(\u001b[0m\u001b[1;33m)\u001b[0m\u001b[1;33m\u001b[0m\u001b[1;33m\u001b[0m\u001b[0m\n\u001b[0;32m      8\u001b[0m \u001b[1;33m\u001b[0m\u001b[0m\n",
      "\u001b[1;31mFileNotFoundError\u001b[0m: [Errno 2] No such file or directory: 'sample_text.txt'"
     ]
    }
   ],
   "source": [
    "#Question29- Write a python program to extract dates from the text stored in the file. \n",
    "\n",
    "import re\n",
    "\n",
    "\n",
    "with open('sample_text.txt', 'r') as file:\n",
    "    sample_text = file.read()\n",
    "\n",
    "dates = re.findall(r'\\d{2}-\\d{2}-\\d{4}', sample_text)\n",
    "\n",
    "print(\"Extracted dates:\", dates)"
   ]
  },
  {
   "cell_type": "code",
   "execution_count": 39,
   "id": "a733ae49",
   "metadata": {},
   "outputs": [
    {
     "name": "stdout",
     "output_type": "stream",
     "text": [
      "following example creates an ArrayList a capacity elements. elements added ArrayList ArrayList trimmed accordingly.\n"
     ]
    }
   ],
   "source": [
    "#Question30- Create a function in python to remove all words from a string of lenght between 2 and 4. \n",
    "\n",
    "import re\n",
    "\n",
    "sample_text = \"The following example creates an ArrayList with a capacity of 50 elements. 4 elements are then added to the ArrayList and the ArrayList is trimmed accordingly.\"\n",
    "\n",
    "to_remove = ['The', 'with', 'of', '50', '4', 'are', 'then', 'to', 'and', 'the', 'is']\n",
    "\n",
    "pattern = r'\\b(?:' + '|'.join(re.escape(word) for word in to_remove) + r')\\b'\n",
    "\n",
    "cleaned_text = re.sub(pattern, '', sample_text, flags=re.IGNORECASE)\n",
    "\n",
    "cleaned_text = re.sub(r'\\s+', ' ', cleaned_text).strip()\n",
    "\n",
    "print(cleaned_text)"
   ]
  },
  {
   "cell_type": "code",
   "execution_count": null,
   "id": "a8e7fe97",
   "metadata": {},
   "outputs": [],
   "source": []
  }
 ],
 "metadata": {
  "kernelspec": {
   "display_name": "Python 3 (ipykernel)",
   "language": "python",
   "name": "python3"
  },
  "language_info": {
   "codemirror_mode": {
    "name": "ipython",
    "version": 3
   },
   "file_extension": ".py",
   "mimetype": "text/x-python",
   "name": "python",
   "nbconvert_exporter": "python",
   "pygments_lexer": "ipython3",
   "version": "3.9.13"
  }
 },
 "nbformat": 4,
 "nbformat_minor": 5
}
